{
 "cells": [
  {
   "cell_type": "code",
   "execution_count": 2,
   "metadata": {},
   "outputs": [],
   "source": [
    "import numpy as np\n",
    "from functools import wraps\n",
    "from time import time"
   ]
  },
  {
   "cell_type": "code",
   "execution_count": 4,
   "metadata": {},
   "outputs": [],
   "source": [
    "def timing(f):\n",
    "    @wraps(f)\n",
    "    def wrap(*args, **kw):\n",
    "        ts = time()\n",
    "        result = f(*args, **kw)\n",
    "        te = time()\n",
    "        print('func:%r args:[%r, %r] took: %2.4f sec' % \\\n",
    "          (f.__name__, args, kw, te-ts))\n",
    "        return result\n",
    "    return wrap\n"
   ]
  },
  {
   "cell_type": "code",
   "execution_count": 6,
   "metadata": {},
   "outputs": [],
   "source": [
    "S0 = 100\n",
    "K = 100\n",
    "T = 1\n",
    "r= 0.06\n",
    "N = 3\n",
    "u = 1.1\n",
    "d = 1/u\n",
    "opttype = 'C'"
   ]
  },
  {
   "cell_type": "code",
   "execution_count": 8,
   "metadata": {},
   "outputs": [
    {
     "name": "stdout",
     "output_type": "stream",
     "text": [
      "func:'binomial_tree_slow' args:[(100, 1, 100, 0.06, 3, 1.1, 0.9090909090909091), {'opttype': 'C'}] took: 0.0001 sec\n",
      "10.145735799928817\n"
     ]
    }
   ],
   "source": [
    "@timing\n",
    "def binomial_tree_slow(K, T, S0, r, N, u, d, opttype='C'):\n",
    "    dt = T/N\n",
    "    q = (np.exp(r*dt) - d) / (u-d)\n",
    "    disc = np.exp(-r*dt)\n",
    "\n",
    "    S = np.zeros(N+1)\n",
    "    S[0] = S0*(d**N)\n",
    "    for j in range(1, N+1):\n",
    "        S[j] = S[j-1]*u/d\n",
    "\n",
    "    C = np.zeros(N+1)\n",
    "    for j in range(0, N+1):\n",
    "        C[j] = max(0, S[j]-K)\n",
    "\n",
    "    for i in np.arange(N, 0, -1):\n",
    "        for j in range(0, i):\n",
    "            C[j] = disc * (q*C[j+1] + (1-q)*C[j])\n",
    "\n",
    "    return C[0]\n",
    "\n",
    "price = binomial_tree_slow(K, T, S0, r, N, u, d, opttype='C')\n",
    "print(price)"
   ]
  },
  {
   "cell_type": "code",
   "execution_count": 11,
   "metadata": {},
   "outputs": [
    {
     "name": "stdout",
     "output_type": "stream",
     "text": [
      "func:'binomial_tree_fast' args:[(100, 1, 100, 0.06, 3, 1.1, 0.9090909090909091), {'opttype': 'C'}] took: 0.0001 sec\n",
      "10.145735799928826\n"
     ]
    }
   ],
   "source": [
    "@timing\n",
    "def binomial_tree_fast(K, T, S0, r, N, u, d, opttype='C'):\n",
    "    dt = T/N\n",
    "    q = (np.exp(r*dt) - d) / (u-d)\n",
    "    disc = np.exp(-r*dt)\n",
    "\n",
    "    C = S0*(d**(np.arange(N, -1, -1)))*(u**(np.arange(0, N+1, 1)))\n",
    "    C = np.maximum(C-K, np.zeros(N+1))\n",
    "\n",
    "    for i in np.arange(N, 0, -1):\n",
    "        C = disc*(q*C[1:i+1] + (1-q)*C[0:i])\n",
    "\n",
    "    return C[0]\n",
    "\n",
    "price = binomial_tree_fast(K, T, S0, r, N, u, d, opttype='C')\n",
    "print(price)"
   ]
  },
  {
   "cell_type": "code",
   "execution_count": 12,
   "metadata": {},
   "outputs": [
    {
     "name": "stdout",
     "output_type": "stream",
     "text": [
      "func:'binomial_tree_slow' args:[(100, 1, 100, 0.06, 3, 1.1, 0.9090909090909091), {'opttype': 'C'}] took: 0.0001 sec\n",
      "func:'binomial_tree_fast' args:[(100, 1, 100, 0.06, 3, 1.1, 0.9090909090909091), {'opttype': 'C'}] took: 0.0003 sec\n",
      "func:'binomial_tree_slow' args:[(100, 1, 100, 0.06, 50, 1.1, 0.9090909090909091), {'opttype': 'C'}] took: 0.0007 sec\n",
      "func:'binomial_tree_fast' args:[(100, 1, 100, 0.06, 50, 1.1, 0.9090909090909091), {'opttype': 'C'}] took: 0.0003 sec\n",
      "func:'binomial_tree_slow' args:[(100, 1, 100, 0.06, 100, 1.1, 0.9090909090909091), {'opttype': 'C'}] took: 0.0027 sec\n",
      "func:'binomial_tree_fast' args:[(100, 1, 100, 0.06, 100, 1.1, 0.9090909090909091), {'opttype': 'C'}] took: 0.0006 sec\n",
      "func:'binomial_tree_slow' args:[(100, 1, 100, 0.06, 1000, 1.1, 0.9090909090909091), {'opttype': 'C'}] took: 0.2547 sec\n",
      "func:'binomial_tree_fast' args:[(100, 1, 100, 0.06, 1000, 1.1, 0.9090909090909091), {'opttype': 'C'}] took: 0.0059 sec\n",
      "func:'binomial_tree_slow' args:[(100, 1, 100, 0.06, 5000, 1.1, 0.9090909090909091), {'opttype': 'C'}] took: 6.4810 sec\n",
      "func:'binomial_tree_fast' args:[(100, 1, 100, 0.06, 5000, 1.1, 0.9090909090909091), {'opttype': 'C'}] took: 0.0371 sec\n"
     ]
    }
   ],
   "source": [
    "for N in [3,50, 100, 1000, 5000]:\n",
    "    binomial_tree_slow(K,T,S0,r,N,u,d,opttype='C')\n",
    "    binomial_tree_fast(K,T,S0,r,N,u,d,opttype='C')"
   ]
  }
 ],
 "metadata": {
  "kernelspec": {
   "display_name": "Python 3",
   "language": "python",
   "name": "python3"
  },
  "language_info": {
   "codemirror_mode": {
    "name": "ipython",
    "version": 3
   },
   "file_extension": ".py",
   "mimetype": "text/x-python",
   "name": "python",
   "nbconvert_exporter": "python",
   "pygments_lexer": "ipython3",
   "version": "3.13.2"
  }
 },
 "nbformat": 4,
 "nbformat_minor": 2
}
