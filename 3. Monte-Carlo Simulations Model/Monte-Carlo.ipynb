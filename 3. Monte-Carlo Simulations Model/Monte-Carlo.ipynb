{
 "cells": [
  {
   "cell_type": "code",
   "execution_count": null,
   "metadata": {},
   "outputs": [],
   "source": [
    "import numpy as np\n",
    "import pandas as pd\n",
    "import datetime as dt\n",
    "import yfinance as yf\n",
    "from scipy.stats import norm, t\n",
    "import matplotlib.pyplot as plt"
   ]
  },
  {
   "cell_type": "code",
   "execution_count": null,
   "metadata": {},
   "outputs": [],
   "source": [
    "def getData(stocks, start, end):\n",
    "    stockData = yf.download(stocks, start=start, end=end)\n",
    "    stockData = stockData['Close']\n",
    "    returns = stockData.pct_change()\n",
    "    meanReturns = returns.mean()\n",
    "    covMatrix = returns.cov()\n",
    "    return returns, meanReturns, covMatrix"
   ]
  },
  {
   "cell_type": "code",
   "execution_count": null,
   "metadata": {},
   "outputs": [],
   "source": [
    "tickers = ['AAPL', 'MSFT', 'GOOGL', 'NVDA', 'TSLA', 'BRK-B']\n",
    "endDate = dt.datetime.now()\n",
    "startDate = endDate - dt.timedelta(days=800)\n",
    "returns, meanReturns, covMatrix = getData(tickers, start=startDate, end=endDate)\n",
    "returns = returns.dropna()\n",
    "returns"
   ]
  },
  {
   "cell_type": "code",
   "execution_count": null,
   "metadata": {},
   "outputs": [],
   "source": [
    "weights = np.random.random(len(returns.columns))\n",
    "weights /= np.sum(weights)\n",
    "returns['portfolio'] = returns.dot(weights)"
   ]
  },
  {
   "cell_type": "code",
   "execution_count": null,
   "metadata": {},
   "outputs": [],
   "source": [
    "mc_sims = 400\n",
    "T = 100\n",
    "\n",
    "meanM = np.full(shape=(T, len(weights)), fill_value=meanReturns)\n",
    "meanM = meanM.T\n",
    "\n",
    "portfolio_sims = np.full(shape=(T, mc_sims), fill_value=0.0)\n",
    "\n",
    "initialPortfolio = 10000\n",
    "\n",
    "for m in range(0, mc_sims):\n",
    "    Z = np.random.normal(size=(T, len(weights)))\n",
    "    L = np.linalg.cholesky(covMatrix)\n",
    "    dailyReturns = meanM + np.inner(L, Z)\n",
    "    portfolio_sims[:,m] = np.cumprod(np.inner(weights, dailyReturns.T)+1)*initialPortfolio\n"
   ]
  },
  {
   "cell_type": "code",
   "execution_count": null,
   "metadata": {},
   "outputs": [],
   "source": [
    "plt.plot(portfolio_sims)\n",
    "plt.ylabel('Portfolio Value ($)')\n",
    "plt.xlabel('Days')\n",
    "plt.title('MC simulation of a stock portfolio')\n",
    "plt.show()"
   ]
  }
 ],
 "metadata": {
  "kernelspec": {
   "display_name": "Python 3",
   "language": "python",
   "name": "python3"
  },
  "language_info": {
   "codemirror_mode": {
    "name": "ipython",
    "version": 3
   },
   "file_extension": ".py",
   "mimetype": "text/x-python",
   "name": "python",
   "nbconvert_exporter": "python",
   "pygments_lexer": "ipython3",
   "version": "3.13.2"
  }
 },
 "nbformat": 4,
 "nbformat_minor": 2
}
