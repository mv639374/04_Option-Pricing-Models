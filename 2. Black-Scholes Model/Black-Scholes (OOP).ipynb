{
 "cells": [
  {
   "cell_type": "code",
   "execution_count": 2,
   "metadata": {},
   "outputs": [],
   "source": [
    "import numpy as np"
   ]
  },
  {
   "cell_type": "code",
   "execution_count": 3,
   "metadata": {},
   "outputs": [],
   "source": [
    "from numpy import exp, sqrt, log\n",
    "from scipy.stats import norm\n",
    "\n",
    "class BlackScholes:\n",
    "    def __init__(self,\n",
    "                 time_to_maturity: float,\n",
    "                 strike: float,\n",
    "                 current_price: float,\n",
    "                 volatility: float,\n",
    "                 interest_rate: float):\n",
    "        self.time_to_maturity = time_to_maturity\n",
    "        self.strike = strike\n",
    "        self.current_price = current_price\n",
    "        self.volatiltity = volatility\n",
    "        self.interest_rate = interest_rate\n",
    "\n",
    "    def run(self):\n",
    "        time_to_maturity = self.time_to_maturity\n",
    "        strike = self.strike\n",
    "        current_price = self.current_price\n",
    "        volatility = self.volatiltity\n",
    "        interest_rate = self.interest_rate\n",
    "\n",
    "        d1 = (log(current_price/strike) + (interest_rate + 0.5*volatility**2) * time_to_maturity) / (volatility * sqrt(time_to_maturity))\n",
    "        d2 = d1 - volatility * sqrt(time_to_maturity)\n",
    "        call_price = current_price * norm.cdf(d1) - (strike * np.exp(-(interest_rate*time_to_maturity)) * norm.cdf(d2))\n",
    "        put_price = (strike * np.exp(-(interest_rate*time_to_maturity)) * norm.cdf(-d2)) - current_price * norm.cdf(d1)\n",
    "\n",
    "        self.call_price = call_price\n",
    "        self.put_price = put_price\n",
    "\n",
    "        self.call_delta = norm.cdf(d1)\n",
    "        self.put_delta = 1 - norm.cdf(d1)\n",
    "\n",
    "        self.call_gamma = norm.pdf(d1) / (strike * volatility * sqrt(time_to_maturity))\n",
    "        self.put_gamma = self.call_gamma\n",
    "\n",
    "if __name__ == \"__main__\":\n",
    "    time_to_maturity = 2\n",
    "    strike = 90\n",
    "    current_price = 100\n",
    "    volatility = 0.2\n",
    "    interest_rate = 0.05\n",
    "\n",
    "    BS = BlackScholes(time_to_maturity=time_to_maturity,\n",
    "                      strike=strike,\n",
    "                      current_price=current_price,\n",
    "                      volatility=volatility,\n",
    "                      interest_rate=interest_rate)\n",
    "    \n",
    "    BS.run()\n",
    "        "
   ]
  },
  {
   "cell_type": "code",
   "execution_count": 5,
   "metadata": {},
   "outputs": [
    {
     "data": {
      "text/plain": [
       "np.float64(22.033380013718087)"
      ]
     },
     "execution_count": 5,
     "metadata": {},
     "output_type": "execute_result"
    }
   ],
   "source": [
    "BS.call_price"
   ]
  }
 ],
 "metadata": {
  "kernelspec": {
   "display_name": "Python 3",
   "language": "python",
   "name": "python3"
  },
  "language_info": {
   "codemirror_mode": {
    "name": "ipython",
    "version": 3
   },
   "file_extension": ".py",
   "mimetype": "text/x-python",
   "name": "python",
   "nbconvert_exporter": "python",
   "pygments_lexer": "ipython3",
   "version": "3.13.2"
  }
 },
 "nbformat": 4,
 "nbformat_minor": 2
}
